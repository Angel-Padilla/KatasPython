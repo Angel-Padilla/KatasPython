{
 "cells": [
  {
   "cell_type": "markdown",
   "metadata": {},
   "source": [
    "Distancias entre la tierra y Júpiter"
   ]
  },
  {
   "cell_type": "code",
   "execution_count": 3,
   "metadata": {},
   "outputs": [],
   "source": [
    "Tierra_Sol = 149597870 #Km\n",
    "Jupiter_Sol = 778547200 #Km"
   ]
  },
  {
   "cell_type": "code",
   "execution_count": 5,
   "metadata": {},
   "outputs": [
    {
     "name": "stdout",
     "output_type": "stream",
     "text": [
      "La Tierra está a : 628949330 Km de Jupiter\n",
      "Que en millas esquivale a: 390577533.93\n"
     ]
    }
   ],
   "source": [
    "D_Tierra_Jupiter = abs(Tierra_Sol-Jupiter_Sol)\n",
    "D_Tierra_Jupiter_Millas = D_Tierra_Jupiter*0.621\n",
    "print(\"La Tierra está a : \" + str(D_Tierra_Jupiter) + \" Km de Jupiter\")\n",
    "print(\"Que en millas esquivale a: \"+ str(D_Tierra_Jupiter_Millas))"
   ]
  },
  {
   "cell_type": "markdown",
   "metadata": {},
   "source": [
    "# Ejercicio 2"
   ]
  },
  {
   "cell_type": "code",
   "execution_count": null,
   "metadata": {},
   "outputs": [],
   "source": [
    "Planeta1 = input(\"¿Cuál es el primer planeta?\")\n",
    "D1 = int(input(\"Ingrese su distancia al Sol\"))\n",
    "Planeta2 = input(\"¿Cuál es el segundo planeta?\")\n",
    "D2 = int(input(\"Ingrese su distancia al Sol\"))\n",
    "\n",
    "Dist = abs(D1-D2)\n",
    "\n",
    "print(\"la distancia al Sol entre {p1} y {p2} es de: {distancia}\".format(p1=Planeta1, p2=Planeta2, distancia=Dist))\n",
    "print(\"la distancia en millas es: {dist1}\".format(Dist*0.621))\n"
   ]
  }
 ],
 "metadata": {
  "interpreter": {
   "hash": "5146370ad273fd341d5d01de5780fa8f12e16d0b0429fcbe2075325cff801e4d"
  },
  "kernelspec": {
   "display_name": "Python 3.10.2 64-bit",
   "language": "python",
   "name": "python3"
  },
  "language_info": {
   "codemirror_mode": {
    "name": "ipython",
    "version": 3
   },
   "file_extension": ".py",
   "mimetype": "text/x-python",
   "name": "python",
   "nbconvert_exporter": "python",
   "pygments_lexer": "ipython3",
   "version": "3.10.2"
  },
  "orig_nbformat": 4
 },
 "nbformat": 4,
 "nbformat_minor": 2
}
