{
 "cells": [
  {
   "cell_type": "markdown",
   "metadata": {},
   "source": [
    "# KATA 3"
   ]
  },
  {
   "cell_type": "markdown",
   "metadata": {},
   "source": [
    "Se escribe lógica combinacional para imprimir una advertencia si un asteroide se acerca a la tierra demasiado rápido.\n",
    "\n",
    "**Cualquier velocidad superior a 25 Km/s merece advertencia**"
   ]
  },
  {
   "cell_type": "markdown",
   "metadata": {},
   "source": [
    "Un asteroide se acerca a una velocidad de 49 \n",
    "Km/s"
   ]
  },
  {
   "cell_type": "code",
   "execution_count": null,
   "metadata": {},
   "outputs": [],
   "source": [
    "asteroid_v = 49 #Km/s\n",
    "\n",
    "if asteroid_v >= 25:\n",
    "    print(\"¡ALERTA! Asteroide acercandose a \" + str(asteroid_v) + \" Km/s\")\n"
   ]
  },
  {
   "cell_type": "markdown",
   "metadata": {},
   "source": [
    "Asteroide a 19Km/s"
   ]
  },
  {
   "cell_type": "code",
   "execution_count": 5,
   "metadata": {},
   "outputs": [
    {
     "name": "stdout",
     "output_type": "stream",
     "text": [
      "Asteroide acercandose a 19 Km/s\n",
      "Que aburrido\n"
     ]
    }
   ],
   "source": [
    "asteroid2_v = 19 #Km/s\n",
    "\n",
    "if asteroid2_v >= 25:\n",
    "    print(\"¡ALERTA! Asteroide acercandose a \" + str(asteroid2_v) + \" Km/s\")\n",
    "elif asteroid2_v >= 20:\n",
    "    print(\"¡ATENCION! Asteroide acercandose a \" + str(asteroid2_v) + \" Km/s.\")\n",
    "    print(\"Se podrán ver luces en el cielo\")\n",
    "else:\n",
    "    print(\"Asteroide acercandose a \" + str(asteroid2_v) + \" Km/s\")\n",
    "    print(\"Que aburrido\")"
   ]
  },
  {
   "cell_type": "markdown",
   "metadata": {},
   "source": [
    "Uso de operadores **and** y **or**"
   ]
  },
  {
   "cell_type": "markdown",
   "metadata": {},
   "source": [
    "Como no me dan valores de V o tamaño, se ingresarán en consola"
   ]
  },
  {
   "cell_type": "code",
   "execution_count": 2,
   "metadata": {},
   "outputs": [
    {
     "name": "stdout",
     "output_type": "stream",
     "text": [
      "Se acerca un asteroide de 20.0m \n",
      " A una velocidad de 22.0Km/s \n",
      "Es completamente inofensivo pero el cielo brillará\n"
     ]
    }
   ],
   "source": [
    "ast_v = float(input(\"Velocidad del asteroide (Km/s): \"))\n",
    "ast_t = float(input(\"tamaño del asteroide (m): \"))\n",
    "\n",
    "advertencia = \"Se acerca un asteroide de \" + str(ast_t) + \"m \\n A una velocidad de \" + str(ast_v) + \"Km/s \\n\"\n",
    "\n",
    "if ast_v >= 25:\n",
    "    if ast_t > 25 and ast_t < 1000:\n",
    "        advertencia += \"Busque refugio inmediatamente\"\n",
    "    elif ast_t < 25:\n",
    "        advertencia += \"Es peligroso, pero el cielo brillará\"\n",
    "    else:\n",
    "        advertencia += \"Es ENORME y rápido, causará grandes daños al impacto\"\n",
    "elif ast_v > 20:\n",
    "    if ast_t > 25 and ast_t < 1000:\n",
    "        advertencia += \"Podría iluminar el cielo, pero busque refugio\"\n",
    "    elif ast_t < 25:\n",
    "        advertencia += \"Es completamente inofensivo pero el cielo brillará\"\n",
    "    else:\n",
    "        advertencia += \"Es ENORME, causará grandes daños al impacto\"\n",
    "else:\n",
    "    if ast_t > 25 and ast_t < 1000:\n",
    "        advertencia += \"Tiene un tamaño considerable, no iluminará el cielo\"\n",
    "    elif ast_t < 25:\n",
    "        advertencia += \"Pasará desapercibido\"\n",
    "    else:\n",
    "        advertencia += \"Es ENORME, es posible que cause grandes daños al impacto\"\n",
    "print(advertencia)"
   ]
  }
 ],
 "metadata": {
  "interpreter": {
   "hash": "5146370ad273fd341d5d01de5780fa8f12e16d0b0429fcbe2075325cff801e4d"
  },
  "kernelspec": {
   "display_name": "Python 3.10.2 64-bit",
   "language": "python",
   "name": "python3"
  },
  "language_info": {
   "codemirror_mode": {
    "name": "ipython",
    "version": 3
   },
   "file_extension": ".py",
   "mimetype": "text/x-python",
   "name": "python",
   "nbconvert_exporter": "python",
   "pygments_lexer": "ipython3",
   "version": "3.10.2"
  },
  "orig_nbformat": 4
 },
 "nbformat": 4,
 "nbformat_minor": 2
}
