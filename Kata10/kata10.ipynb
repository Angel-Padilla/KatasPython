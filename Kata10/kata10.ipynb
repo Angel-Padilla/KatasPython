{
 "cells": [
  {
   "cell_type": "markdown",
   "metadata": {},
   "source": [
    "Intenta crear un archivo de Python y asígnale el nombre open.py, con el contenido siguiente:"
   ]
  },
  {
   "cell_type": "code",
   "execution_count": 9,
   "metadata": {},
   "outputs": [
    {
     "name": "stdout",
     "output_type": "stream",
     "text": [
      "No se encuentra el archivo config.txt!\n"
     ]
    }
   ],
   "source": [
    "try:\n",
    "     open('config.txt')\n",
    "except FileNotFoundError:\n",
    "     print(\"No se encuentró el archivo config.txt!\")\n"
   ]
  },
  {
   "cell_type": "markdown",
   "metadata": {},
   "source": [
    "Los astronautas limitan su uso de agua a unos 11 litros al día. Vamos a crear una función que, con base al número de astronautas, pueda calcular la cantidad de agua quedará después de un día o más:"
   ]
  },
  {
   "cell_type": "code",
   "execution_count": 10,
   "metadata": {},
   "outputs": [],
   "source": [
    "def agua_res(astronautas, agua_res, dias_res):\n",
    "    uso_diario = astronautas * 11\n",
    "    uso_total = uso_diario * dias_res\n",
    "    total_agua_res = agua_res - uso_total\n",
    "    return f\"El total de agua que queda después de {dias_res} días es: {total_agua_res} litros\""
   ]
  },
  {
   "cell_type": "markdown",
   "metadata": {},
   "source": [
    "PruProbemos con cinco astronautas, 100 litros de agua sobrante y dos días:"
   ]
  },
  {
   "cell_type": "code",
   "execution_count": 11,
   "metadata": {},
   "outputs": [
    {
     "data": {
      "text/plain": [
       "'El total de agua que queda después de 2 días es: -10 litros'"
      ]
     },
     "execution_count": 11,
     "metadata": {},
     "output_type": "execute_result"
    }
   ],
   "source": [
    "agua_res(5, 100, 2)"
   ]
  },
  {
   "cell_type": "markdown",
   "metadata": {},
   "source": [
    "Si eres un ingeniero(a) que programa el sistema de navegación, podrías generar una excepción en la función water_left() para alertar de la condición de error:"
   ]
  },
  {
   "cell_type": "code",
   "execution_count": 12,
   "metadata": {},
   "outputs": [],
   "source": [
    "def agua_res(astronautas, agua_res, dias_res):\n",
    "    uso_diario = astronautas * 11\n",
    "    uso_total = uso_diario * dias_res\n",
    "    total_agua_res = agua_res - uso_total\n",
    "    if total_agua_res < 0:\n",
    "        raise RuntimeError(f\"No hay suficiente agua para {astronautas} astronautas después de {dias_res} días!\")\n",
    "    return f\"El total de agua que queda después de {dias_res} días es: {total_agua_res} litros\""
   ]
  },
  {
   "cell_type": "code",
   "execution_count": 13,
   "metadata": {},
   "outputs": [
    {
     "ename": "RuntimeError",
     "evalue": "No hay suficiente agua para 5 astronautas después de 2 días!",
     "output_type": "error",
     "traceback": [
      "\u001b[1;31m---------------------------------------------------------------------------\u001b[0m",
      "\u001b[1;31mRuntimeError\u001b[0m                              Traceback (most recent call last)",
      "Input \u001b[1;32mIn [13]\u001b[0m, in \u001b[0;36m<module>\u001b[1;34m\u001b[0m\n\u001b[1;32m----> 1\u001b[0m agua_res(\u001b[39m5\u001b[39;49m, \u001b[39m100\u001b[39;49m, \u001b[39m2\u001b[39;49m)\n",
      "Input \u001b[1;32mIn [12]\u001b[0m, in \u001b[0;36magua_res\u001b[1;34m(astronautas, agua_res, dias_res)\u001b[0m\n\u001b[0;32m      4\u001b[0m total_agua_res \u001b[39m=\u001b[39m agua_res \u001b[39m-\u001b[39m uso_total\n\u001b[0;32m      5\u001b[0m \u001b[39mif\u001b[39;00m total_agua_res \u001b[39m<\u001b[39m \u001b[39m0\u001b[39m:\n\u001b[1;32m----> 6\u001b[0m     \u001b[39mraise\u001b[39;00m \u001b[39mRuntimeError\u001b[39;00m(\u001b[39mf\u001b[39m\u001b[39m\"\u001b[39m\u001b[39mNo hay suficiente agua para \u001b[39m\u001b[39m{\u001b[39;00mastronautas\u001b[39m}\u001b[39;00m\u001b[39m astronautas después de \u001b[39m\u001b[39m{\u001b[39;00mdias_res\u001b[39m}\u001b[39;00m\u001b[39m días!\u001b[39m\u001b[39m\"\u001b[39m)\n\u001b[0;32m      7\u001b[0m \u001b[39mreturn\u001b[39;00m \u001b[39mf\u001b[39m\u001b[39m\"\u001b[39m\u001b[39mEl total de agua que queda después de \u001b[39m\u001b[39m{\u001b[39;00mdias_res\u001b[39m}\u001b[39;00m\u001b[39m días es: \u001b[39m\u001b[39m{\u001b[39;00mtotal_agua_res\u001b[39m}\u001b[39;00m\u001b[39m litros\u001b[39m\u001b[39m\"\u001b[39m\n",
      "\u001b[1;31mRuntimeError\u001b[0m: No hay suficiente agua para 5 astronautas después de 2 días!"
     ]
    }
   ],
   "source": [
    "agua_res(5, 100, 2)"
   ]
  },
  {
   "cell_type": "markdown",
   "metadata": {},
   "source": [
    "El error de TypeError no es muy descriptivo en el contexto de lo que espera la función. Actualizaremos la función para que use TypeError, pero con un mensaje mejor:"
   ]
  },
  {
   "cell_type": "code",
   "execution_count": 14,
   "metadata": {},
   "outputs": [],
   "source": [
    "def agua_res(astronautas, agua_res, dias_res):\n",
    "    for argument in [astronautas, agua_res, dias_res]:\n",
    "        try:\n",
    "            # If argument is an int, the following operation will work\n",
    "            argument / 10\n",
    "        except TypeError:\n",
    "            # TypError will be raised only if it isn't the right type \n",
    "            # Raise the same exception but with a better error message\n",
    "            raise TypeError(f\"Todos los argumentos deben ser de tipo int, pero se recibió: '{argument}'\")\n",
    "    uso_diario = astronautas * 11\n",
    "    uso_total = uso_diario * dias_res\n",
    "    total_agua_res = agua_res - uso_total\n",
    "    if total_agua_res < 0:\n",
    "        raise RuntimeError(f\"No hay suficiente agua para {astronautas} astronautas después de {dias_res} días!\")\n",
    "    return f\"El total de agua que queda después de {dias_res} días es: {total_agua_res} litros\""
   ]
  },
  {
   "cell_type": "code",
   "execution_count": 16,
   "metadata": {},
   "outputs": [
    {
     "ename": "TypeError",
     "evalue": "Todos los argumentos deben ser de tipo int, pero se recibió: '3'",
     "output_type": "error",
     "traceback": [
      "\u001b[1;31m---------------------------------------------------------------------------\u001b[0m",
      "\u001b[1;31mTypeError\u001b[0m                                 Traceback (most recent call last)",
      "\u001b[1;32md:\\Documentos\\Innovaccion\\Doc1\\kata10.ipynb Cell 12'\u001b[0m in \u001b[0;36magua_res\u001b[1;34m(astronautas, agua_res, dias_res)\u001b[0m\n\u001b[0;32m      <a href='vscode-notebook-cell:/d%3A/Documentos/Innovaccion/Doc1/kata10.ipynb#ch0000011?line=2'>3</a>\u001b[0m \u001b[39mtry\u001b[39;00m:\n\u001b[0;32m      <a href='vscode-notebook-cell:/d%3A/Documentos/Innovaccion/Doc1/kata10.ipynb#ch0000011?line=3'>4</a>\u001b[0m     \u001b[39m# If argument is an int, the following operation will work\u001b[39;00m\n\u001b[1;32m----> <a href='vscode-notebook-cell:/d%3A/Documentos/Innovaccion/Doc1/kata10.ipynb#ch0000011?line=4'>5</a>\u001b[0m     argument \u001b[39m/\u001b[39;49m \u001b[39m10\u001b[39;49m\n\u001b[0;32m      <a href='vscode-notebook-cell:/d%3A/Documentos/Innovaccion/Doc1/kata10.ipynb#ch0000011?line=5'>6</a>\u001b[0m \u001b[39mexcept\u001b[39;00m \u001b[39mTypeError\u001b[39;00m:\n\u001b[0;32m      <a href='vscode-notebook-cell:/d%3A/Documentos/Innovaccion/Doc1/kata10.ipynb#ch0000011?line=6'>7</a>\u001b[0m     \u001b[39m# TypError will be raised only if it isn't the right type \u001b[39;00m\n\u001b[0;32m      <a href='vscode-notebook-cell:/d%3A/Documentos/Innovaccion/Doc1/kata10.ipynb#ch0000011?line=7'>8</a>\u001b[0m     \u001b[39m# Raise the same exception but with a better error message\u001b[39;00m\n",
      "\u001b[1;31mTypeError\u001b[0m: unsupported operand type(s) for /: 'str' and 'int'",
      "\nDuring handling of the above exception, another exception occurred:\n",
      "\u001b[1;31mTypeError\u001b[0m                                 Traceback (most recent call last)",
      "Input \u001b[1;32mIn [16]\u001b[0m, in \u001b[0;36m<module>\u001b[1;34m\u001b[0m\n\u001b[1;32m----> 1\u001b[0m agua_res(\u001b[39m\"\u001b[39;49m\u001b[39m3\u001b[39;49m\u001b[39m\"\u001b[39;49m, \u001b[39m\"\u001b[39;49m\u001b[39m200\u001b[39;49m\u001b[39m\"\u001b[39;49m, \u001b[39mNone\u001b[39;49;00m)\n",
      "\u001b[1;32md:\\Documentos\\Innovaccion\\Doc1\\kata10.ipynb Cell 12'\u001b[0m in \u001b[0;36magua_res\u001b[1;34m(astronautas, agua_res, dias_res)\u001b[0m\n\u001b[0;32m      <a href='vscode-notebook-cell:/d%3A/Documentos/Innovaccion/Doc1/kata10.ipynb#ch0000011?line=4'>5</a>\u001b[0m         argument \u001b[39m/\u001b[39m \u001b[39m10\u001b[39m\n\u001b[0;32m      <a href='vscode-notebook-cell:/d%3A/Documentos/Innovaccion/Doc1/kata10.ipynb#ch0000011?line=5'>6</a>\u001b[0m     \u001b[39mexcept\u001b[39;00m \u001b[39mTypeError\u001b[39;00m:\n\u001b[0;32m      <a href='vscode-notebook-cell:/d%3A/Documentos/Innovaccion/Doc1/kata10.ipynb#ch0000011?line=6'>7</a>\u001b[0m         \u001b[39m# TypError will be raised only if it isn't the right type \u001b[39;00m\n\u001b[0;32m      <a href='vscode-notebook-cell:/d%3A/Documentos/Innovaccion/Doc1/kata10.ipynb#ch0000011?line=7'>8</a>\u001b[0m         \u001b[39m# Raise the same exception but with a better error message\u001b[39;00m\n\u001b[1;32m----> <a href='vscode-notebook-cell:/d%3A/Documentos/Innovaccion/Doc1/kata10.ipynb#ch0000011?line=8'>9</a>\u001b[0m         \u001b[39mraise\u001b[39;00m \u001b[39mTypeError\u001b[39;00m(\u001b[39mf\u001b[39m\u001b[39m\"\u001b[39m\u001b[39mTodos los argumentos deben ser de tipo int, pero se recibió: \u001b[39m\u001b[39m'\u001b[39m\u001b[39m{\u001b[39;00margument\u001b[39m}\u001b[39;00m\u001b[39m'\u001b[39m\u001b[39m\"\u001b[39m)\n\u001b[0;32m     <a href='vscode-notebook-cell:/d%3A/Documentos/Innovaccion/Doc1/kata10.ipynb#ch0000011?line=9'>10</a>\u001b[0m uso_diario \u001b[39m=\u001b[39m astronautas \u001b[39m*\u001b[39m \u001b[39m11\u001b[39m\n\u001b[0;32m     <a href='vscode-notebook-cell:/d%3A/Documentos/Innovaccion/Doc1/kata10.ipynb#ch0000011?line=10'>11</a>\u001b[0m uso_total \u001b[39m=\u001b[39m uso_diario \u001b[39m*\u001b[39m dias_res\n",
      "\u001b[1;31mTypeError\u001b[0m: Todos los argumentos deben ser de tipo int, pero se recibió: '3'"
     ]
    }
   ],
   "source": [
    "agua_res(\"3\", \"200\", None)"
   ]
  }
 ],
 "metadata": {
  "interpreter": {
   "hash": "b8436b809a200628b3c2040c9c6cd4a67aed398833cb8301de8c2d6b249e678e"
  },
  "kernelspec": {
   "display_name": "Python 3.10.2 64-bit",
   "language": "python",
   "name": "python3"
  },
  "language_info": {
   "codemirror_mode": {
    "name": "ipython",
    "version": 3
   },
   "file_extension": ".py",
   "mimetype": "text/x-python",
   "name": "python",
   "nbconvert_exporter": "python",
   "pygments_lexer": "ipython3",
   "version": "3.10.2"
  },
  "orig_nbformat": 4
 },
 "nbformat": 4,
 "nbformat_minor": 2
}
