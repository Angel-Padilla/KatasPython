{
 "cells": [
  {
   "cell_type": "markdown",
   "metadata": {},
   "source": [
    "# Ejercicio 1"
   ]
  },
  {
   "cell_type": "code",
   "execution_count": 5,
   "metadata": {},
   "outputs": [
    {
     "name": "stdout",
     "output_type": "stream",
     "text": [
      "['venus', 'mercurio', 'tierra', 'neptuno']\n"
     ]
    }
   ],
   "source": [
    "nuevoPlaneta = \"\"\n",
    "planetas = []\n",
    "\n",
    "while nuevoPlaneta.lower() !=\"done\":\n",
    "    if nuevoPlaneta:\n",
    "        planetas.append(nuevoPlaneta)\n",
    "    nuevoPlaneta = input(\"Introduzca el nombre de un planeta o 'done' para finalziar\")\n",
    "print(planetas)"
   ]
  },
  {
   "cell_type": "markdown",
   "metadata": {},
   "source": [
    "# Ejercicio 2"
   ]
  },
  {
   "cell_type": "code",
   "execution_count": 6,
   "metadata": {},
   "outputs": [
    {
     "name": "stdout",
     "output_type": "stream",
     "text": [
      "venus\n",
      "mercurio\n",
      "tierra\n",
      "neptuno\n"
     ]
    }
   ],
   "source": [
    "for planeta in planetas:\n",
    "    print(planeta)"
   ]
  }
 ],
 "metadata": {
  "interpreter": {
   "hash": "5146370ad273fd341d5d01de5780fa8f12e16d0b0429fcbe2075325cff801e4d"
  },
  "kernelspec": {
   "display_name": "Python 3.10.2 64-bit",
   "language": "python",
   "name": "python3"
  },
  "language_info": {
   "codemirror_mode": {
    "name": "ipython",
    "version": 3
   },
   "file_extension": ".py",
   "mimetype": "text/x-python",
   "name": "python",
   "nbconvert_exporter": "python",
   "pygments_lexer": "ipython3",
   "version": "3.10.2"
  },
  "orig_nbformat": 4
 },
 "nbformat": 4,
 "nbformat_minor": 2
}
