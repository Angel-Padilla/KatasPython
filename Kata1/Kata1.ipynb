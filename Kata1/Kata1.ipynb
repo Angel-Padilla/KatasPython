{
 "cells": [
  {
   "cell_type": "markdown",
   "metadata": {},
   "source": [
    "# Kata 1"
   ]
  },
  {
   "cell_type": "markdown",
   "metadata": {},
   "source": [
    "Programa que da la fecha"
   ]
  },
  {
   "cell_type": "code",
   "execution_count": 8,
   "metadata": {},
   "outputs": [
    {
     "name": "stdout",
     "output_type": "stream",
     "text": [
      "la fecha de hoy es: 2022-02-12\n"
     ]
    }
   ],
   "source": [
    "from datetime import date as fecha\n",
    "print(\"la fecha de hoy es: \" + str(fecha.today()))"
   ]
  },
  {
   "cell_type": "markdown",
   "metadata": {},
   "source": [
    "Conversor de unidades"
   ]
  },
  {
   "cell_type": "code",
   "execution_count": 13,
   "metadata": {},
   "outputs": [
    {
     "name": "stdout",
     "output_type": "stream",
     "text": [
      "3 parsecs equivalen a 9.7848años luz\n"
     ]
    }
   ],
   "source": [
    "d_parsec = input(\"Ingrese distancia en parsecs\")\n",
    "d_anoLuz = float(d_parsec)*3.2616\n",
    "print(d_parsec + \" parsecs equivalen a \" + str(d_anoLuz) + \" años luz\")"
   ]
  }
 ],
 "metadata": {
  "interpreter": {
   "hash": "5146370ad273fd341d5d01de5780fa8f12e16d0b0429fcbe2075325cff801e4d"
  },
  "kernelspec": {
   "display_name": "Python 3.10.2 64-bit",
   "language": "python",
   "name": "python3"
  },
  "language_info": {
   "codemirror_mode": {
    "name": "ipython",
    "version": 3
   },
   "file_extension": ".py",
   "mimetype": "text/x-python",
   "name": "python",
   "nbconvert_exporter": "python",
   "pygments_lexer": "ipython3",
   "version": "3.10.2"
  },
  "orig_nbformat": 4
 },
 "nbformat": 4,
 "nbformat_minor": 2
}
