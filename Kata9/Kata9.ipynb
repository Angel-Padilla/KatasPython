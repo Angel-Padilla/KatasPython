{
 "cells": [
  {
   "cell_type": "markdown",
   "metadata": {},
   "source": [
    "# Ejercicio 1"
   ]
  },
  {
   "cell_type": "code",
   "execution_count": 1,
   "metadata": {},
   "outputs": [],
   "source": [
    "def promedio_fuel(tanque1, tanque2, tanque3):\n",
    "    return (tanque1+tanque2+tanque3)/3"
   ]
  },
  {
   "cell_type": "code",
   "execution_count": 2,
   "metadata": {},
   "outputs": [
    {
     "name": "stdout",
     "output_type": "stream",
     "text": [
      "5.0\n"
     ]
    }
   ],
   "source": [
    "print(promedio_fuel(4,5,6))"
   ]
  },
  {
   "cell_type": "code",
   "execution_count": 3,
   "metadata": {},
   "outputs": [],
   "source": [
    "def prom(*args):\n",
    "    suma = 0\n",
    "    for valor in args:\n",
    "        suma += valor\n",
    "    return suma/len(args)"
   ]
  },
  {
   "cell_type": "code",
   "execution_count": 5,
   "metadata": {},
   "outputs": [],
   "source": [
    "def prom_fuel(tanque1, tanque2, tanque3):\n",
    "    return prom(tanque1,tanque2,tanque3)"
   ]
  },
  {
   "cell_type": "code",
   "execution_count": 6,
   "metadata": {},
   "outputs": [
    {
     "name": "stdout",
     "output_type": "stream",
     "text": [
      "5.0\n"
     ]
    }
   ],
   "source": [
    "print(prom_fuel(4,5,6))"
   ]
  },
  {
   "cell_type": "markdown",
   "metadata": {},
   "source": [
    "# Ejercicio 2"
   ]
  },
  {
   "cell_type": "code",
   "execution_count": null,
   "metadata": {},
   "outputs": [],
   "source": [
    "def informe(hr_PLanzamiento, tVuelo, destino, tanqueIn, tanqueEx):\n",
    "    print(\n",
    "        f\"Informe de misión\\n\\nHora de prelanzamiento: {hr_PLanzamiento}\\n\"\n",
    "        f\"Tiempo de vuelo: {tVuelo}\\n\"\n",
    "        f\"destino: {destino}\\n\"\n",
    "        f\"Tanque Interno: al {tanqueIn}%\\n\"\n",
    "        f\"Tanque externo: al {tanqueEx}%\")"
   ]
  },
  {
   "cell_type": "code",
   "execution_count": 10,
   "metadata": {},
   "outputs": [],
   "source": [
    "def informeP(**data):\n",
    "    titulo = \"Informe de la misión\\n\\n\"\n",
    "    tanque = False\n",
    "    plantilla = f\"{titulo}\"\n",
    "    for obj, valor in data.items():\n",
    "        nombre = obj.split(\"_\")\n",
    "        for nom in nombre:\n",
    "            if nom.lower().find(\"tanque\") != -1:\n",
    "                tanque = True\n",
    "        if tanque:\n",
    "            plantilla += f\"{obj}: al {valor}%\\n\"\n",
    "            tanque = False\n",
    "        else:\n",
    "            plantilla += f\"{obj}: {valor}\\n\"\n",
    "    return plantilla\n"
   ]
  },
  {
   "cell_type": "code",
   "execution_count": 13,
   "metadata": {},
   "outputs": [
    {
     "name": "stdout",
     "output_type": "stream",
     "text": [
      "Informe de la misión\n",
      "\n",
      "tanque_1: al 50%\n",
      "tiempo_vuelo: 600\n",
      "hora_lanzamiento: 16\n",
      "\n"
     ]
    }
   ],
   "source": [
    "print(informeP(tanque_1=50,tiempo_vuelo=600,hora_lanzamiento=16))"
   ]
  }
 ],
 "metadata": {
  "interpreter": {
   "hash": "5146370ad273fd341d5d01de5780fa8f12e16d0b0429fcbe2075325cff801e4d"
  },
  "kernelspec": {
   "display_name": "Python 3.10.2 64-bit",
   "language": "python",
   "name": "python3"
  },
  "language_info": {
   "codemirror_mode": {
    "name": "ipython",
    "version": 3
   },
   "file_extension": ".py",
   "mimetype": "text/x-python",
   "name": "python",
   "nbconvert_exporter": "python",
   "pygments_lexer": "ipython3",
   "version": "3.10.2"
  },
  "orig_nbformat": 4
 },
 "nbformat": 4,
 "nbformat_minor": 2
}
