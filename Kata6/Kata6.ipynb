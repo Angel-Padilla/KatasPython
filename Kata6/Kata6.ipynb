{
 "cells": [
  {
   "cell_type": "markdown",
   "metadata": {},
   "source": [
    "# Ejercicio 1"
   ]
  },
  {
   "cell_type": "code",
   "execution_count": 1,
   "metadata": {},
   "outputs": [
    {
     "name": "stdout",
     "output_type": "stream",
     "text": [
      "Plutón\n"
     ]
    }
   ],
   "source": [
    "planets = [\"Mercurio\",\"Venus\",\"Tierra\",\"Marte\",\"Jupiter\",\"Saturno\",\"Urano\",\"Neptuno\"]\n",
    "planets.append(\"Plutón\")\n",
    "print(planets[-1])"
   ]
  },
  {
   "cell_type": "markdown",
   "metadata": {},
   "source": [
    "# Ejercicio 2"
   ]
  },
  {
   "cell_type": "code",
   "execution_count": 11,
   "metadata": {},
   "outputs": [
    {
     "name": "stdout",
     "output_type": "stream",
     "text": [
      "los planetas más cercanos al Sol que su escogido son:\n",
      "['Mercurio']\n",
      "los planetas más leajnos al Sol que su escogido son:\n",
      "['Tierra', 'Marte', 'Jupiter', 'Saturno', 'Urano', 'Neptuno']\n",
      "7\n"
     ]
    }
   ],
   "source": [
    "planets = [\"Mercurio\",\"Venus\",\"Tierra\",\"Marte\",\"Jupiter\",\"Saturno\",\"Urano\",\"Neptuno\"]\n",
    "chosenP = input(\"Escoja un planeta, Plutón no cuenta\")\n",
    "chosenP_I = planets.index(chosenP)\n",
    "closest = planets[0:chosenP_I]\n",
    "if len(closest)==0:\n",
    "    print(\"El planeta que escogió es el más cercano al Sol\")\n",
    "else:\n",
    "    print(\"los planetas más cercanos al Sol que su escogido son:\")\n",
    "    print(closest)\n",
    "furthest = planets[chosenP_I+1:planets.index(planets[-1])+1]\n",
    "if len(furthest)==0:\n",
    "    print(\"El planeta que escogió es el más alejado del Sol\")\n",
    "else:    \n",
    "    print(\"los planetas más leajnos al Sol que su escogido son:\")    \n",
    "    print(furthest)"
   ]
  }
 ],
 "metadata": {
  "interpreter": {
   "hash": "5146370ad273fd341d5d01de5780fa8f12e16d0b0429fcbe2075325cff801e4d"
  },
  "kernelspec": {
   "display_name": "Python 3.10.2 64-bit",
   "language": "python",
   "name": "python3"
  },
  "language_info": {
   "codemirror_mode": {
    "name": "ipython",
    "version": 3
   },
   "file_extension": ".py",
   "mimetype": "text/x-python",
   "name": "python",
   "nbconvert_exporter": "python",
   "pygments_lexer": "ipython3",
   "version": "3.10.2"
  },
  "orig_nbformat": 4
 },
 "nbformat": 4,
 "nbformat_minor": 2
}
